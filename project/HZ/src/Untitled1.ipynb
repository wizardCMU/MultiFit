{
 "cells": [
  {
   "cell_type": "code",
   "execution_count": 9,
   "id": "d45daab6-317c-434d-b355-1fcdbd8b3c18",
   "metadata": {},
   "outputs": [
    {
     "name": "stdout",
     "output_type": "stream",
     "text": [
      "sst5 42.68325791855203 2.7734308491260062\n",
      "amazon_counterfactual_en 40.57517290794773 10.018627183708128\n",
      "SentEval-CR 88.61885790172644 0.9687275551042152\n",
      "emotion 47.464999999999996 5.134639714721961\n",
      "enron_spam 89.93 3.6812497877758807\n",
      "ag_news 83.37631578947368 2.399050481606503\n"
     ]
    }
   ],
   "source": [
    "import json\n",
    "import numpy as np\n",
    "\n",
    "dataset_names = ['sst5', 'amazon_counterfactual_en', 'SentEval-CR', 'emotion', 'enron_spam', 'ag_news']\n",
    "\n",
    "## mtt - 64, weight=1\n",
    "path0 = 'results/paraphrase-mpnet-base-v2-CosineSimilarityLoss-pytorch-iterations_20-batch_16/{}/train-64-{}/results.json'\n",
    "## orig - 64\n",
    "path0 = 'results/paraphrase-mpnet-base-v2-CosineSimilarityLoss-logistic_regression-iterations_20-batch_16/{}/train-64-{}/results.json'\n",
    "## mtt - 8, weight=1\n",
    "path0 = 'results/paraphrase-mpnet-base-v2-CosineSimilarityLoss-pytorch-iterations_20-batch_16/{}/train-8-{}/results.json'\n",
    "## orig - 8\n",
    "path0 = 'results/paraphrase-mpnet-base-v2-CosineSimilarityLoss-logistic_regression-iterations_20-batch_16/{}/train-8-{}/results.json'\n",
    "## orig - 8 (pytorch)\n",
    "path0 = 'results_orig/paraphrase-mpnet-base-v2-CosineSimilarityLoss-pytorch-iterations_20-batch_16/{}/train-8-{}/results.json'\n",
    "## results-binary = only binaryloss\n",
    "## results-binary-mtt1 = binaryloss + mtt, weight=1\n",
    "## results-w0.01 = mtt, weight=0.01\n",
    "\n",
    "all_reses = {}\n",
    "for dataset_name in dataset_names:\n",
    "    reses = []\n",
    "    for i in range(10):\n",
    "        path = path0.format(dataset_name, i)\n",
    "        with open(path, 'r') as f:\n",
    "            res = json.load(f)\n",
    "        reses.append((res['score']))\n",
    "    all_reses[dataset_name] = reses\n",
    "    \n",
    "for dataset_name in dataset_names:\n",
    "    reses = all_reses[dataset_name]\n",
    "    print(dataset_name, np.mean(reses), np.std(reses))"
   ]
  },
  {
   "cell_type": "code",
   "execution_count": 12,
   "id": "91eb098b-bc2c-44f8-8919-021db5cf59cf",
   "metadata": {},
   "outputs": [
    {
     "name": "stdout",
     "output_type": "stream",
     "text": [
      "42.7\\tiny{2.8} & 40.6\\tiny{10.0} & 88.6\\tiny{1.0} & 47.5\\tiny{5.1} & 89.9\\tiny{3.7} & 83.4\\tiny{2.4} & 61.9\\tiny{4.5} & \n"
     ]
    }
   ],
   "source": [
    "means = []\n",
    "stds = []\n",
    "s = ''\n",
    "for name in dataset_names:\n",
    "    reses = all_reses[name]\n",
    "    s += '{:.1f}'.format(np.mean(reses)) + '\\\\tiny{' + '{:.1f}'.format(np.std(reses)) + '} & '\n",
    "    if 'ag' not in name:\n",
    "        means.append(np.mean(reses))\n",
    "        stds.append(np.std(reses))\n",
    "s += '{:.1f}'.format(np.mean(means)) + '\\\\tiny{' + '{:.1f}'.format(np.mean(stds)) + '} & '\n",
    "print(s)"
   ]
  }
 ],
 "metadata": {
  "kernelspec": {
   "display_name": "baselines-setfit",
   "language": "python",
   "name": "baselines-setfit"
  },
  "language_info": {
   "codemirror_mode": {
    "name": "ipython",
    "version": 3
   },
   "file_extension": ".py",
   "mimetype": "text/x-python",
   "name": "python",
   "nbconvert_exporter": "python",
   "pygments_lexer": "ipython3",
   "version": "3.9.13"
  }
 },
 "nbformat": 4,
 "nbformat_minor": 5
}
